{
 "cells": [
  {
   "cell_type": "code",
   "execution_count": 1,
   "metadata": {},
   "outputs": [
    {
     "name": "stderr",
     "output_type": "stream",
     "text": [
      "Loading required package: ape\n",
      "\n",
      "Loading required package: maps\n",
      "\n",
      "Loading required package: RRPP\n",
      "\n",
      "Loading required package: rgl\n",
      "\n",
      "Warning message in rgl.init(initValue, onlyNULL):\n",
      "“RGL: unable to open X11 display”\n",
      "Warning message:\n",
      "“'rgl.init' failed, running with 'rgl.useNULL = TRUE'.”\n"
     ]
    }
   ],
   "source": [
    "library(geiger)\n",
    "library(phytools)\n",
    "library(geomorph)\n",
    "library(ape)"
   ]
  },
  {
   "cell_type": "code",
   "execution_count": 2,
   "metadata": {},
   "outputs": [],
   "source": [
    "SixteenS = read.tree(\"TypeII-16S.faa.tree\",tree.names = TRUE)"
   ]
  },
  {
   "cell_type": "code",
   "execution_count": 3,
   "metadata": {},
   "outputs": [],
   "source": [
    "CasTree = read.tree(\"TypeII-Cas9s.faa.tree\",tree.names = TRUE)"
   ]
  },
  {
   "cell_type": "code",
   "execution_count": 4,
   "metadata": {},
   "outputs": [],
   "source": [
    "fractionMGE = as.matrix(fastBM(CasTree,mu=.15,bounds=c(0,1)))"
   ]
  },
  {
   "cell_type": "code",
   "execution_count": 5,
   "metadata": {},
   "outputs": [
    {
     "name": "stderr",
     "output_type": "stream",
     "text": [
      "Warning message in geomorph:::phylo.mat(fractionMGE, SixteenS):\n",
      "“Singular phylogenetic covariance matrix. Proceed with caution”\n"
     ]
    }
   ],
   "source": [
    "phyloMat16s = geomorph:::phylo.mat(fractionMGE,SixteenS)\n",
    "conditionedData.16S = phyloMat16s$D.mat%*%fractionMGE"
   ]
  },
  {
   "cell_type": "code",
   "execution_count": 6,
   "metadata": {},
   "outputs": [],
   "source": [
    "Cas9 = geomorph:::phylo.mat(fractionMGE,CasTree)"
   ]
  },
  {
   "cell_type": "code",
   "execution_count": null,
   "metadata": {},
   "outputs": [
    {
     "name": "stdout",
     "output_type": "stream",
     "text": [
      "  |============================                                          |  40%"
     ]
    }
   ],
   "source": [
    "res=two.b.pls(Cas9$C,phyloMat16s$C)"
   ]
  },
  {
   "cell_type": "code",
   "execution_count": null,
   "metadata": {},
   "outputs": [],
   "source": []
  }
 ],
 "metadata": {
  "kernelspec": {
   "display_name": "R",
   "language": "R",
   "name": "ir"
  },
  "language_info": {
   "codemirror_mode": "r",
   "file_extension": ".r",
   "mimetype": "text/x-r-source",
   "name": "R",
   "pygments_lexer": "r",
   "version": "4.0.0"
  },
  "widgets": {
   "application/vnd.jupyter.widget-state+json": {
    "state": {},
    "version_major": 2,
    "version_minor": 0
   }
  }
 },
 "nbformat": 4,
 "nbformat_minor": 4
}
